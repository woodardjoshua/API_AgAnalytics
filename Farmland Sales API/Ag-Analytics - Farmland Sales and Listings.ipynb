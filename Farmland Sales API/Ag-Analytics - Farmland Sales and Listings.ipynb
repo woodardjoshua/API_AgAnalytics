{
 "cells": [
  {
   "cell_type": "markdown",
   "metadata": {},
   "source": [
    "# Ag-Analytics® - Farmland Sales API "
   ]
  },
  {
   "cell_type": "markdown",
   "metadata": {},
   "source": [
    "Ag-Analytics® Farmland Sales API provides users with easy and fast access to filter and find land for sale, complete with the sales and geographic data components to get a detailed description of that land’s value. The data of this service is originally provided by [Farmland Finder](https://www.farmlandfinder.com). In this version of Land Value Service API, each parcel/land has a full description of the entire sale/transaction. Multiple parcel/land record can belong to one transaction. In geographic attribute, each result record gives the detailed description of a certain land/parcel itself, while the attribute in ‘sales’ may carry the information for the transaction/sale other than this parcel/land."
   ]
  },
  {
   "cell_type": "markdown",
   "metadata": {},
   "source": [
    "### Required libraries"
   ]
  },
  {
   "cell_type": "code",
   "execution_count": null,
   "metadata": {},
   "outputs": [],
   "source": [
    "import requests\n",
    "import json\n",
    "import pandas as pd\n",
    "import folium\n",
    "import mplleaflet\n",
    "import geojson\n",
    "import shapely.wkt\n",
    "import os\n",
    "from urllib.parse import urlencode, quote_plus, quote"
   ]
  },
  {
   "cell_type": "markdown",
   "metadata": {},
   "source": [
    "### Request Parameter Details"
   ]
  },
  {
   "cell_type": "markdown",
   "metadata": {},
   "source": [
    "Request URL:  https://ag-analytics.azure-api.net/farmland-sales/\n",
    "\n",
    "       \n",
    "1). __Location Parameters__(Required): \n",
    "    To make a valid request,at least one location parameters need to be provided.\n",
    "    \n",
    "    i. State:  The name of State in string format.Title cased.\n",
    "    \n",
    "    ii. County: The name of State in string format. Title cased.This parameter will be valid only if the State parameter is provided\n",
    "    \n",
    "    iii.Bounding_box: Area of interest in geoJSON format(See example below).\n",
    "    \n",
    "\n",
    "2). __Sale Condition Parameters__(optional): Optional parameters to specify response based on sale conditions\n",
    "\n",
    "    i. Status: Sale Condition of the property. Vaild options are: Sold, For Sale, Expired Listing.\n",
    "    \n",
    "    ii. StartDate (Required only if Status is Sold):Searching starting date of the property Sale Date. In format 'yyyy-mm-dd'\n",
    "    \n",
    "    iii.EndDate (Required only if Status is Sold):Searching end date of the property Sale Date. In format 'yyyy-mm-dd'"
   ]
  },
  {
   "cell_type": "markdown",
   "metadata": {},
   "source": [
    "### Response Description"
   ]
  },
  {
   "cell_type": "markdown",
   "metadata": {},
   "source": [
    "__Listing Information__\n",
    "\n",
    "1).Listing_id: The unique ID for each listing(transaction). \n",
    "\n",
    "2).Entry_Updated:The date of the sales information has been updated\n",
    "\n",
    "3).Avg_CSR2: the average The Iowa Corn Suitability Rating(Soil Productivity Index)\n",
    "\n",
    "4).CRP: If the property joined the Conservation Reserve Program.(‘Yes’ or ‘No’)\n",
    "\n",
    "5).Total_Acres: the total acres of the entire sale\n",
    "\n",
    "6).Tillable_Acres: the tillable acres of the sale\n",
    "\n",
    "7).Percent_Tillable: the percent tillable area\n",
    "\n",
    "8).CRP_Acres: the CRP acres\n",
    "\n",
    "9).Sale_Price: the total sale price of the sale record\n",
    "\n",
    "10).Price_Acre: the price per acre of the sale record\n",
    "\n",
    "11).Status: one of the following values: \"For Sale\", \"Listing Expired\", \"Sold\"\n",
    "\n",
    "12).Sale_Condition: one of the following values: \"Auction\", \"Listing\"\n",
    "\n",
    "13).Listing_Agent: the listing agent name\n",
    "\n",
    "14).Buyer: the buyer name as a string\n",
    "\n",
    "15).Sale_Date: The sale date string in YYYY-MM-DD format. (When the parcel is still listing, the attribute will be Null\n",
    "\n",
    "16).Taxes_total: taxes for the sale as a float\n",
    "\n",
    "17).Assessed_Land: If the land/parcel has been assessed\n",
    "\n",
    "18).Broker_URL: The URL link to the broker listing webpage as a string\n",
    "\n",
    "\n",
    "__Parcel Information__\n",
    "\n",
    "1).Parcel_ID :The unique sale id for each parcel as a string\n",
    "\n",
    "2).Parcel: Index of the parcel in one listing(transaction).\n",
    "\n",
    "3).Shape: The boundary of the parcel/property in Well Known Text type\n",
    "\n",
    "4).GeoJSON: The boundary of the parcel/property in GeoJSON type\n",
    "\n",
    "5).Acres: Area of the parcel\n",
    "\n",
    "6).State: The state where the parcel/property locates in. \n",
    "\n",
    "7).County:The county where the parcel/property locates in.\n",
    "\n",
    "8).lat_center: the latitudinal center of the parcel/property as a float value\n",
    "\n",
    "9).lng_center: the longitudinal center of the parcel/property as a float value\n",
    "\n",
    "10).range: the range as a string (ex: 26W - always include E or W)\n",
    "\n",
    "11).sect: the section as string (ex: 17)\n",
    "\n",
    "12).twnshp: the township as a string (ex: 78N - always include N or S)\n",
    "\n",
    "13).county_name: the county name as a string (Title cased - for ex: Osceola, Polk, etc.)\n",
    "\n",
    "14).state_name: the state name as a string (Title cased - for ex: Michigan)\n",
    "\n",
    "15).STATEFP: the FIPS to state level as a string\n",
    "\n",
    "16).FIPS: the FIPS to county level as a string\n"
   ]
  },
  {
   "cell_type": "markdown",
   "metadata": {},
   "source": [
    "### Request Parameter Example"
   ]
  },
  {
   "cell_type": "code",
   "execution_count": 27,
   "metadata": {},
   "outputs": [],
   "source": [
    "State= \"Missouri\"\n",
    "County= \"Audrain\"\n",
    "Bounding_box =  '{ \"type\": \"Feature\", \"properties\": {}, \"geometry\": { \"type\": \"MultiPolygon\", \"coordinates\": [ [ [ [ -88.932982, 46.997269 ], [ -88.932993, 46.99897 ], [ -88.932997, 46.999537 ], [ -88.932997, 46.999636 ], [ -88.932999, 46.999934 ], [ -88.933, 47.000034 ], [ -88.932998, 47.000111 ], [ -88.932994, 47.000343 ], [ -88.932994, 47.000421 ], [ -88.932987, 47.000449 ], [ -88.932967, 47.000535 ], [ -88.932961, 47.000564 ], [ -88.932958, 47.00109 ], [ -88.932951, 47.002671 ], [ -88.932949, 47.003199 ], [ -88.932957, 47.005373 ], [ -88.932982, 47.011395 ], [ -88.93299, 47.011898 ], [ -88.933025, 47.014073 ], [ -88.933046, 47.015422 ], [ -88.933111, 47.019471 ], [ -88.933133, 47.020821 ], [ -88.93314, 47.021299 ], [ -88.933163, 47.022736 ], [ -88.933171, 47.023215 ], [ -88.933183, 47.023969 ], [ -88.933219, 47.026231 ], [ -88.933232, 47.026986 ], [ -88.933246, 47.02784 ], [ -88.933288, 47.030402 ], [ -88.933303, 47.031256 ] ] ] ] } }'\n",
    "Status = 'For Sale' \n",
    "StartDate = '2016-01-01'\n",
    "EndDate = '2020-06-10'\n",
    "\n",
    "#Format the inputs()\n",
    "values = {\n",
    "    \"State\":State,\n",
    "    \"County\" : County,\n",
    "    'Bounding_Box': Bounding_box,\n",
    "    'StartDate':StartDate,\n",
    "    'EndDate':EndDate,\n",
    "    \"Status\":Status\n",
    "}\n",
    "\n",
    "# Header for using a subscription key.\n",
    "headers = {'Content-Type': 'application/x-www-form-urlencoded','Ocp-Apim-Subscription-Key': \"XXXXXXXXXXXXXX\"}"
   ]
  },
  {
   "cell_type": "markdown",
   "metadata": {},
   "source": [
    "### API Function with GET request"
   ]
  },
  {
   "cell_type": "code",
   "execution_count": 28,
   "metadata": {},
   "outputs": [],
   "source": [
    "def LandValueService(values,headers):\n",
    "    try:\n",
    "        encode_vars = values.copy()\n",
    "        if 'Bounding_Box' in values:\n",
    "            encode_vars.pop('Bounding_Box')\n",
    "            encoded = urlencode(encode_vars)\n",
    "            encoded_box = \"&Bounding_box=\" + \"%20\" + quote(str(values['Bounding_Box'])) + \"'\"\n",
    "            url = encoded + encoded_box\n",
    "            \n",
    "        else:\n",
    "            url = urlencode(values)\n",
    "\n",
    "        url = \"https://ag-analytics.azure-api.net/farmland-sales/?\" + url\n",
    "        response = requests.get(url = url, headers = headers)\n",
    "        \n",
    "        #response = requests.get(url, json = values,headers = headers).json()\n",
    "        print(response.json())\n",
    "\n",
    "    \n",
    "    except Exception as e:\n",
    "        print(e)\n",
    "        raise e"
   ]
  },
  {
   "cell_type": "markdown",
   "metadata": {},
   "source": [
    "### API Function with POST request (retired)"
   ]
  },
  {
   "cell_type": "markdown",
   "metadata": {},
   "source": [
    "Note: As of June 20th, 2020, we have retired the post request for FarmLand Sales Services. Sorry for any inconveniences caused by this!"
   ]
  },
  {
   "cell_type": "code",
   "execution_count": 29,
   "metadata": {},
   "outputs": [],
   "source": [
    "def LandValueService_Post(values,headers):\n",
    "    try:\n",
    "        url = 'https://ag-analytics.azure-api.net/farmland-sales/'\n",
    "        \n",
    "        response = requests.post(url, data = values,headers = headers).json()\n",
    "        print(response.get('status'))\n",
    "        print(response.get('msg'))\n",
    "        print(response)\n",
    "        return response\n",
    "    \n",
    "    except Exception as e:\n",
    "        print(e)\n",
    "        raise e"
   ]
  },
  {
   "cell_type": "markdown",
   "metadata": {},
   "source": [
    "### Calling API Function and Displaying Response"
   ]
  },
  {
   "cell_type": "code",
   "execution_count": null,
   "metadata": {
    "scrolled": false
   },
   "outputs": [],
   "source": [
    "LandValueResponse = LandValueService(values,headers)"
   ]
  },
  {
   "cell_type": "markdown",
   "metadata": {},
   "source": [
    "### Format Response"
   ]
  },
  {
   "cell_type": "code",
   "execution_count": null,
   "metadata": {},
   "outputs": [],
   "source": [
    "listing_info =[]\n",
    "records = LandValueResponse.get('records')\n",
    "for listing in records:\n",
    "    parcels_info = records.get(listing).get('parcels')\n",
    "    list_item = records.get(listing)\n",
    "    list_item.pop('parcels')\n",
    "    for parcel in parcels_info:\n",
    "        parcel.update(list_item)\n",
    "        listing_info.append(parcel)\n",
    "\n",
    "listing_db = pd.DataFrame(listing_info)"
   ]
  },
  {
   "cell_type": "markdown",
   "metadata": {},
   "source": [
    "### Display Response"
   ]
  },
  {
   "cell_type": "code",
   "execution_count": null,
   "metadata": {},
   "outputs": [],
   "source": [
    "#Narrow table\n",
    "listing_db.set_index('Listing_id').T\n",
    "#Wide table\n",
    "# listing_db.set_index('Listing_id')"
   ]
  },
  {
   "cell_type": "markdown",
   "metadata": {},
   "source": [
    "### Visualize Parcels on Map"
   ]
  },
  {
   "cell_type": "code",
   "execution_count": null,
   "metadata": {},
   "outputs": [],
   "source": [
    "#Display parcels on map\n",
    "zoom_point=listing_db['GeoJSON'][0]['coordinates'][0][0]\n",
    "m = folium.Map([zoom_point[1],zoom_point[0]],tiles='Cartodb Positron', zoom_start=11,width='70%', height='100%')\n",
    "for shape in listing_db['GeoJSON']:\n",
    "    folium.GeoJson(shape).add_to(m)\n",
    "m"
   ]
  },
  {
   "cell_type": "markdown",
   "metadata": {},
   "source": [
    "### Download Response"
   ]
  },
  {
   "cell_type": "code",
   "execution_count": null,
   "metadata": {},
   "outputs": [],
   "source": [
    "download_path = '<---path on your local directory--->' # ex:r'C:\\Users\\YourName\\Downloads'\n",
    "listing_db.to_csv(os.path.join(download_path,'FarmLand_Listing.csv'))"
   ]
  }
 ],
 "metadata": {
  "kernelspec": {
   "display_name": "Python 3",
   "language": "python",
   "name": "python3"
  },
  "language_info": {
   "codemirror_mode": {
    "name": "ipython",
    "version": 3
   },
   "file_extension": ".py",
   "mimetype": "text/x-python",
   "name": "python",
   "nbconvert_exporter": "python",
   "pygments_lexer": "ipython3",
   "version": "3.7.6"
  }
 },
 "nbformat": 4,
 "nbformat_minor": 2
}
